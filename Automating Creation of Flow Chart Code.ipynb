{
 "cells": [
  {
   "cell_type": "code",
   "execution_count": 2,
   "id": "fe680fac-f38f-425d-9b77-b093770d20eb",
   "metadata": {},
   "outputs": [
    {
     "name": "stdout",
     "output_type": "stream",
     "text": [
      "Requirement already satisfied: graphviz in c:\\users\\shubham\\appdata\\local\\programs\\python\\python311\\lib\\site-packages (0.20.3)\n"
     ]
    }
   ],
   "source": [
    "# Installing graphviz package\n",
    "!pip install graphviz"
   ]
  },
  {
   "cell_type": "markdown",
   "id": "dbcb9891-5ee4-4bf3-9cf8-07e93913cd5f",
   "metadata": {},
   "source": [
    "## Automation Approch"
   ]
  },
  {
   "cell_type": "code",
   "execution_count": 3,
   "id": "1773c37c-8926-49c2-8048-08d481610ca6",
   "metadata": {},
   "outputs": [],
   "source": [
    "# Importing necessory packages\n",
    "from graphviz import Digraph\n",
    "import csv\n",
    "import os"
   ]
  },
  {
   "cell_type": "code",
   "execution_count": 8,
   "id": "cfa4dd30-a89e-473e-8802-0d1e6e8ce797",
   "metadata": {},
   "outputs": [
    {
     "name": "stdout",
     "output_type": "stream",
     "text": [
      "Flowchart created and saved as 'output_flowchart.png'.\n"
     ]
    }
   ],
   "source": [
    "# Reading file\n",
    "def read_csv(file_path):\n",
    "    \n",
    "#Reading nodes and edges from a CSV file.\n",
    "    with open(file_path, newline='', encoding='utf-8') as csvfile:\n",
    "        reader = csv.DictReader(csvfile)\n",
    "        nodes = {}\n",
    "        for row in reader:\n",
    "            nodes[row['id']] = row\n",
    "    return nodes\n",
    "\n",
    "def create_flowchart_from_csv(csv_path, output_filename):\n",
    "    nodes = read_csv(csv_path)\n",
    "\n",
    "    dot = Digraph(comment='Automated Flowchart', engine='dot')\n",
    "    dot.attr(rankdir='TB', splines='ortho')  # Adjust layout direction and edge style to top to bottom\n",
    "\n",
    "    # Defining node styles based on type\n",
    "    styles = {\n",
    "        'Decision': {'shape': 'diamond', 'style': 'filled', 'color': 'lightyellow'},\n",
    "        'Action': {'shape': 'rectangle', 'style': 'filled', 'color': 'lightgreen'},\n",
    "        'Start': {'shape': 'ellipse', 'style': 'filled', 'color': 'lightblue'}\n",
    "    }\n",
    "\n",
    "    # Defining arrow shapes\n",
    "    arrow_shapes = {'Next': 'normal'}\n",
    "\n",
    "    # Creating nodes and define edges\n",
    "    for node_id, node in nodes.items():\n",
    "        dot.node(node_id, node['label'], **styles.get(node['type'], {}))\n",
    "        if node['next'] != 'END' and node['next']:\n",
    "            next_ids = node['next'].split(';')\n",
    "            for next_id in next_ids:\n",
    "                if next_id in nodes:  # Check if the next_id is a valid node\n",
    "                    # Add edge with arrow shape\n",
    "                    dot.edge(node_id, next_id, arrowhead=arrow_shapes['Next'])\n",
    "\n",
    "    # Rendering the graph\n",
    "    dot.render(output_filename, cleanup=True)\n",
    "    print(f\"Flowchart created and saved as '{output_filename}.png'.\")\n",
    "\n",
    "if __name__ == '__main__':\n",
    "    csv_path = \"C:\\\\Users\\\\shubham\\\\Documents\\Syracuse_ADS_Study\\\\Skill Up\\\\Python\\\\Automate Flow Chart\\\\Input 2.csv\"\n",
    "    output_filename = 'output_flowchart'\n",
    "    create_flowchart_from_csv(csv_path, output_filename)\n"
   ]
  },
  {
   "cell_type": "code",
   "execution_count": 12,
   "id": "80faecda-68ae-44e5-a939-9960e8eadfd1",
   "metadata": {},
   "outputs": [
    {
     "name": "stdout",
     "output_type": "stream",
     "text": [
      "Flowchart created and saved as 'output_flowchart.png'.\n"
     ]
    }
   ],
   "source": [
    "import csv\n",
    "from graphviz import Digraph\n",
    "\n",
    "# Reading file\n",
    "def read_csv(file_path):\n",
    "    # Reading nodes and edges from a CSV file.\n",
    "    with open(file_path, newline='', encoding='utf-8') as csvfile:\n",
    "        reader = csv.DictReader(csvfile)\n",
    "        nodes = {}\n",
    "        for row in reader:\n",
    "            nodes[row['id']] = row\n",
    "    return nodes\n",
    "\n",
    "def create_flowchart_from_csv(csv_path, output_filename):\n",
    "    nodes = read_csv(csv_path)\n",
    "\n",
    "    dot = Digraph(comment='Automated Flowchart', engine='dot')\n",
    "    dot.attr(rankdir='TB', splines='ortho')  # Adjust layout direction and edge style to top to bottom\n",
    "\n",
    "    # Defining node styles based on type\n",
    "    styles = {\n",
    "        'Decision': {'shape': 'diamond', 'style': 'filled', 'color': 'Yellow'},  # Changed color to red\n",
    "        'Action': {'shape': 'rectangle', 'style': 'filled', 'color': 'lightgreen'},\n",
    "        'Start': {'shape': 'ellipse', 'style': 'filled', 'color': 'lightblue'}\n",
    "    }\n",
    "\n",
    "    # Defining arrow shapes\n",
    "    arrow_shapes = {'Next': 'normal'}\n",
    "\n",
    "    # Creating nodes and define edges\n",
    "    for node_id, node in nodes.items():\n",
    "        dot.node(node_id, node['label'], **styles.get(node['type'], {}))\n",
    "        if node['next'] != 'END' and node['next']:\n",
    "            next_ids = node['next'].split(';')\n",
    "            for next_id in next_ids:\n",
    "                if next_id in nodes:  # Check if the next_id is a valid node\n",
    "                    # Add edge with arrow shape\n",
    "                    dot.edge(node_id, next_id, arrowhead=arrow_shapes['Next'])\n",
    "\n",
    "    # Rendering the graph\n",
    "    dot.render(output_filename, cleanup=True)\n",
    "    print(f\"Flowchart created and saved as '{output_filename}.png'.\")\n",
    "\n",
    "if __name__ == '__main__':\n",
    "    csv_path = \"C:\\\\Users\\\\shubham\\\\Documents\\Syracuse_ADS_Study\\\\Skill Up\\\\Python\\\\Automate Flow Chart\\\\Input 2.csv\"\n",
    "    output_filename = 'output_flowchart'\n",
    "    create_flowchart_from_csv(csv_path, output_filename)\n"
   ]
  },
  {
   "cell_type": "markdown",
   "id": "75573bc5-baf0-4716-93b2-2b8dbb108051",
   "metadata": {},
   "source": [
    "## Manual Approch"
   ]
  },
  {
   "cell_type": "code",
   "execution_count": null,
   "id": "b69e8fbd-19e9-4d61-8b7a-5a898478c358",
   "metadata": {},
   "outputs": [],
   "source": [
    "# Importing necessory packages\n",
    "import os\n",
    "from graphviz import Digraph\n",
    "\n",
    "def create_lamp_flowchart():\n",
    "    # Setting the path to the Graphviz bin directory\n",
    "    graphviz_path = r\"C:\\Users\\shubham\\Documents\\Syracuse_ADS_Study\\Skill Up\\Python\\Automate Flow Chart\\windows_10_cmake_Release_Graphviz-11.0.0-win64\\Graphviz-11.0.0-win64\\bin\"\n",
    "    os.environ[\"PATH\"] += os.pathsep + graphviz_path\n",
    "\n",
    "    dot = Digraph(comment='Lamp Troubleshooting', engine='dot')\n",
    "    \n",
    "    # Defining nodes and edges here\n",
    "    dot.node('A', 'Lamp doesn\\'t work')\n",
    "    dot.node('B', 'Is the lamp plugged in?')\n",
    "    dot.node('C', 'Replace the bulb')\n",
    "    dot.node('D', 'Repair the lamp')\n",
    "\n",
    "    dot.edges(['AB'])\n",
    "    dot.edge('B', 'C', label='No')\n",
    "    dot.edge('B', 'D', label='Yes')\n",
    "    \n",
    "    # Rendering the graph\n",
    "    dot.render('lamp_flowchart', format='png', cleanup=True)\n",
    "    print(\"Flowchart created and saved as 'lamp_flowchart.png'.\")\n",
    "\n",
    "if __name__ == '__main__':\n",
    "    create_lamp_flowchart()"
   ]
  }
 ],
 "metadata": {
  "kernelspec": {
   "display_name": "Python 3 (ipykernel)",
   "language": "python",
   "name": "python3"
  },
  "language_info": {
   "codemirror_mode": {
    "name": "ipython",
    "version": 3
   },
   "file_extension": ".py",
   "mimetype": "text/x-python",
   "name": "python",
   "nbconvert_exporter": "python",
   "pygments_lexer": "ipython3",
   "version": "3.11.5"
  }
 },
 "nbformat": 4,
 "nbformat_minor": 5
}
